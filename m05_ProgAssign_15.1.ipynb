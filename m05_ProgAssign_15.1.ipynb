{
 "cells": [
  {
   "cell_type": "markdown",
   "metadata": {},
   "source": [
    "----------------------------------------------------------------------------------------------------------------------------------\n",
    "# Program Name: Book Thing To Do 15.1\n",
    "\n",
    "## Author: Josh Lanier \n",
    "\n",
    "### SDEV 220\n",
    "\n",
    "### 12/4/22\n",
    "\n",
    "Program Purpose: To practice the use of the multiprocessing module. Program runs three separate processes that each execute\n",
    "the print() function, which when called waits a random amount of time between 0 and 1 seconds, and then prints the current time. \n",
    "\n",
    "Variables: \n",
    "\n",
    "- waitTime      (float)             randomly generated float value created by random(), between 0 and 1, to feed to the sleep()\n",
    "                                    function and to the 'Program Info' thread for testing purposes. sleep() uses it to simulate \n",
    "                                    processing time.\n",
    "\n",
    "- currTimeST    (Structured Time)   current time held in a Structured Time object (curr[ent]TimeS[tructured]T[ime])\n",
    "\n",
    "- fmt           (string)            format string to pass to currTimeStr as the format for the strftime() function\n",
    "\n",
    "- currTimeStr   (string)            returned string from strftime(fmt, currTimeST) holding the current time in format\n",
    "                                    24 hour time: HOUR:MIN\n",
    "                                    12 hour time: HOUR:MIN AM/PM \n",
    "\n",
    "- n             (integer)           variable holding the current iteration value for the \"for...in...\" loop in main(), gets \n",
    "                                    passed to the print function that tells the user which process is starting, and then is \n",
    "                                    passed as an argument to printTime() for each process\n",
    "\n",
    "- p             (Process)           Process object that holds attributes for each process, in this case each instance that will \n",
    "                                    run printTime()  \n",
    "<br>\n",
    "----------------------------------------------------------------------------------------------------------------------------------"
   ]
  },
  {
   "cell_type": "markdown",
   "metadata": {},
   "source": [
    "Notebook does not run the multiprocessing processes, or at least isn't calling printTime(). Running it from a standard Python .py file returns the expected output. See last Markdown block."
   ]
  },
  {
   "cell_type": "code",
   "execution_count": 13,
   "metadata": {},
   "outputs": [],
   "source": [
    "# Thing To Do 15.1\n",
    "\n",
    "import multiprocessing\n",
    "from time import sleep"
   ]
  },
  {
   "cell_type": "code",
   "execution_count": 14,
   "metadata": {},
   "outputs": [],
   "source": [
    "def printTime(n: int):\n",
    "    \"\"\"\n",
    "    When called, printTime() waits a random amount of time between 0 and 1 seconds, then prints the current time.\n",
    "    \"\"\"\n",
    "\n",
    "    from random import random\n",
    "    from time import localtime, strftime\n",
    "\n",
    "    waitTime = random()\n",
    "    print(f\"Program info: Process {n}'s wait time is {waitTime}.\")\n",
    "    sleep(waitTime)\n",
    "\n",
    "    currTimeST = localtime()\n",
    "    fmt = \"\"\"\n",
    "        24 hour time: %H:%M\n",
    "        12 hour time: %I:%M %p \\n------------------------------\"\"\"\n",
    "    currTimeStr = strftime(fmt, currTimeST)\n",
    "    print(f\"Program info: Generated Structured Time object is \\\"{currTimeST}\\\".\")\n",
    "\n",
    "    print(f\"\"\"-------------------------------\n",
    "    Process {n}'s current time is {currTimeStr}\"\"\")"
   ]
  },
  {
   "cell_type": "code",
   "execution_count": 15,
   "metadata": {},
   "outputs": [],
   "source": [
    "def main():\n",
    "    \"\"\"\n",
    "    The main execution function of the program.\n",
    "    \"\"\"\n",
    "    print(\"Starting processes...\")\n",
    "    for n in range(3):\n",
    "        print(f\"Starting process {n}...\")\n",
    "        p = multiprocessing.Process(target=printTime, args=(n,))\n",
    "        p.start()\n",
    "    print(\"All processes are started.\")\n",
    "    sleep(1.5)\n",
    "    print(\"All processes have exited.\")"
   ]
  },
  {
   "cell_type": "code",
   "execution_count": 16,
   "metadata": {},
   "outputs": [
    {
     "name": "stdout",
     "output_type": "stream",
     "text": [
      "Starting processes...\n",
      "Starting process 0...\n",
      "Starting process 1...\n",
      "Starting process 2...\n",
      "All processes are started.\n",
      "All processes have exited.\n"
     ]
    }
   ],
   "source": [
    "if __name__ == \"__main__\":\n",
    "    main()\n",
    "\n"
   ]
  },
  {
   "cell_type": "markdown",
   "metadata": {},
   "source": [
    "Expected (the output I got running the .py file):\n",
    "\n",
    "Starting processes...  \n",
    "Starting process 0...  \n",
    "Starting process 1...  \n",
    "Starting process 2...  \n",
    "All processes are started.  \n",
    "Program info: Process 1's wait time is 0.47425004715583285.  \n",
    "Program info: Process 2's wait time is 0.7713930975720343.  \n",
    "Program info: Process 0's wait time is 0.8821870546312086.  \n",
    "Program info: Generated Structured Time object is \"time.struct_time(tm_year=2022, tm_mon=12, tm_mday=4, tm_hour=22, tm_min=50, tm_sec=14, tm_wday=6, tm_yday=338, tm_isdst=0)\".  \n",
    "<br>   \n",
    "    Process 1's current time is  \n",
    "        24 hour time: 22:50  \n",
    "        12 hour time: 10:50 PM  \n",
    "<br>   \n",
    "Program info: Generated Structured Time object is \"time.struct_time(tm_year=2022, tm_mon=12, tm_mday=4, tm_hour=22, tm_min=50, tm_sec=14, tm_wday=6, tm_yday=338, tm_isdst=0)\".    \n",
    "<br>   \n",
    "    Process 2's current time is  \n",
    "        24 hour time: 22:50  \n",
    "        12 hour time: 10:50 PM  \n",
    "<br>   \n",
    "Program info: Generated Structured Time object is \"time.struct_time(tm_year=2022, tm_mon=12, tm_mday=4, tm_hour=22, tm_min=50, tm_sec=14, tm_wday=6, tm_yday=338, tm_isdst=0)\".  \n",
    "<br>  \n",
    "    Process 0's current time is  \n",
    "        24 hour time: 22:50  \n",
    "        12 hour time: 10:50 PM  \n",
    "<br>  \n",
    "All processes have exited.  "
   ]
  },
  {
   "cell_type": "markdown",
   "metadata": {},
   "source": [
    "<hr>\n",
    "Got:\n",
    "\n",
    "Starting processes...  \n",
    "Starting process 0...  \n",
    "Starting process 1...  \n",
    "Starting process 2...  \n",
    "All processes are started.  \n",
    "All processes have exited.  "
   ]
  }
 ],
 "metadata": {
  "kernelspec": {
   "display_name": "Python 3.10.0 64-bit",
   "language": "python",
   "name": "python3"
  },
  "language_info": {
   "codemirror_mode": {
    "name": "ipython",
    "version": 3
   },
   "file_extension": ".py",
   "mimetype": "text/x-python",
   "name": "python",
   "nbconvert_exporter": "python",
   "pygments_lexer": "ipython3",
   "version": "3.10.0"
  },
  "orig_nbformat": 4,
  "vscode": {
   "interpreter": {
    "hash": "467e873f0dda9fd3960b72e40a604d87a4a1ce3947ca6ed6991fc2cd958f247d"
   }
  }
 },
 "nbformat": 4,
 "nbformat_minor": 2
}
