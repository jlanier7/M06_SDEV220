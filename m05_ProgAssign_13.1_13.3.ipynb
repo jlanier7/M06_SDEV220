{
 "cells": [
  {
   "cell_type": "markdown",
   "metadata": {},
   "source": [
    "<hr>\n",
    "\n",
    "# Program Name: Book Thing To Do 13.1-3\n",
    "\n",
    "## Author: Josh Lanier \n",
    "\n",
    "### SDEV 220\n",
    "\n",
    "### 12/4/22\n",
    "\n",
    "Program Purpose: This program creates a text file called \"today.txt\", writes today's date to it, then closes it, opens it, reads it\n",
    "to a variable, and parses the read string to a Structured Time object.\n",
    "\n",
    "Variables: \n",
    "\n",
    "- fileName      (string)            the file name for the \"today.txt\" file\n",
    "\n",
    "- todayFile     (TextIOWrapper)     the file object for \"today.txt\"\n",
    "\n",
    "- today         (datetime)          the datetime object that holds today's date\n",
    "\n",
    "- fmt           (string)            the format string for the time string format function \"strftime()\" and later on the parse function \"strptime()\"\n",
    "\n",
    "- todayString1  (string)            the returned string from the time string format function \"strftime()\" formatting the datetime object 'today'\n",
    "\n",
    "- file          (TextIOWrapper)     a second file object for \"today.txt\"\n",
    "\n",
    "- today_string  (string)            the string read from \"today.txt\"\n",
    "\n",
    "- ts_parsed     (Structured Time)   today_string parsed back into a Structured Time object using \"strptime()\"  \n",
    "<br>\n",
    "<hr>"
   ]
  },
  {
   "cell_type": "code",
   "execution_count": 1,
   "metadata": {},
   "outputs": [
    {
     "name": "stdout",
     "output_type": "stream",
     "text": [
      "Creating today.txt and opening it.\n",
      "Writing to today.txt: \"December 04 2022\"\n",
      "Closing today.txt\n"
     ]
    }
   ],
   "source": [
    "\n",
    "# Thing To Do 13.1\n",
    "\n",
    "from datetime import date\n",
    "\n",
    "import time\n",
    "\n",
    "fileName = \"today.txt\"\n",
    "\n",
    "print(f\"Creating {fileName} and opening it.\")\n",
    "\n",
    "todayFile = open(fileName, 'wt')\n",
    "\n",
    "today = date.today()\n",
    "\n",
    "fmt = \"%B %d %Y\"\n",
    "\n",
    "todayString1 = today.strftime(fmt)\n",
    "\n",
    "print(f\"Writing to {fileName}: \\\"{todayString1}\\\"\")\n",
    "\n",
    "todayFile.write(todayString1)\n",
    "\n",
    "print(f\"Closing {fileName}\")\n",
    "\n",
    "todayFile.close()"
   ]
  },
  {
   "cell_type": "code",
   "execution_count": 2,
   "metadata": {},
   "outputs": [
    {
     "name": "stdout",
     "output_type": "stream",
     "text": [
      "Opening today.txt\n",
      "Reading today.txt...\n",
      "Read \"December 04 2022\" from today.txt.\n",
      "Closing today.txt\n"
     ]
    }
   ],
   "source": [
    "# Thing To Do 13.2\n",
    "\n",
    "fileName = \"today.txt\"\n",
    "\n",
    "print(f\"Opening {fileName}\")\n",
    "\n",
    "file = open(fileName, 'rt')\n",
    "\n",
    "print(f\"Reading {fileName}...\")\n",
    "\n",
    "today_string = file.read()\n",
    "\n",
    "print(f\"Read \\\"{today_string}\\\" from {fileName}.\")\n",
    "\n",
    "print(f\"Closing {fileName}\")\n",
    "\n",
    "file.close()"
   ]
  },
  {
   "cell_type": "code",
   "execution_count": 3,
   "metadata": {},
   "outputs": [
    {
     "name": "stdout",
     "output_type": "stream",
     "text": [
      "Parsing contents of today.txt.\n",
      "Parsed version of today_string is: \"time.struct_time(tm_year=2022, tm_mon=12, tm_mday=4, tm_hour=0, tm_min=0, tm_sec=0, tm_wday=6, tm_yday=338, tm_isdst=-1)\".\n"
     ]
    }
   ],
   "source": [
    "# Thing To Do 13.3\n",
    "\n",
    "print(f\"Parsing contents of {fileName}.\")\n",
    "\n",
    "ts_parsed = time.strptime(today_string, fmt)\n",
    "\n",
    "print(f\"Parsed version of today_string is: \\\"{ts_parsed}\\\".\")"
   ]
  }
 ],
 "metadata": {
  "kernelspec": {
   "display_name": "Python 3.10.0 64-bit",
   "language": "python",
   "name": "python3"
  },
  "language_info": {
   "codemirror_mode": {
    "name": "ipython",
    "version": 3
   },
   "file_extension": ".py",
   "mimetype": "text/x-python",
   "name": "python",
   "nbconvert_exporter": "python",
   "pygments_lexer": "ipython3",
   "version": "3.10.0"
  },
  "orig_nbformat": 4,
  "vscode": {
   "interpreter": {
    "hash": "467e873f0dda9fd3960b72e40a604d87a4a1ce3947ca6ed6991fc2cd958f247d"
   }
  }
 },
 "nbformat": 4,
 "nbformat_minor": 2
}
